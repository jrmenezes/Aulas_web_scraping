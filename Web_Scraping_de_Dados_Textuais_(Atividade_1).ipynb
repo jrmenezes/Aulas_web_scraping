{
  "nbformat": 4,
  "nbformat_minor": 0,
  "metadata": {
    "colab": {
      "provenance": [],
      "collapsed_sections": [],
      "include_colab_link": true
    },
    "kernelspec": {
      "name": "python3",
      "display_name": "Python 3"
    },
    "language_info": {
      "name": "python"
    }
  },
  "cells": [
    {
      "cell_type": "markdown",
      "metadata": {
        "id": "view-in-github",
        "colab_type": "text"
      },
      "source": [
        "<a href=\"https://colab.research.google.com/github/jrmenezes/Agenda/blob/master/Web_Scraping_de_Dados_Textuais_(Atividade_1).ipynb\" target=\"_parent\"><img src=\"https://colab.research.google.com/assets/colab-badge.svg\" alt=\"Open In Colab\"/></a>"
      ]
    },
    {
      "cell_type": "markdown",
      "source": [
        "# Web Scraping de Dados Textuais (Atividade 1)\n",
        "\n",
        "*@Aluno: Junior Batista Menenezes*\n",
        "\n",
        "A partir do código desenvolvido em aula para extração de dados utilizando web scraping do portal Jornal Daqui, deve ser construída uma solução que possibilite o acesso aos links recuperados das notícias, extraindo-se, para cada uma delas, o seu conteúdo textual, isto é, o link associado às notícias deve ser associado pela aplicação e extraído o texto da notícia. O texto extraído deve ser incluído no mesmo arquivo gerado originalmente durante a primeira etapa de web scraping.\n",
        "\n",
        "Observação: deve ser enviado, preferencialmente, arquivo em formato ipynb, ou alternativamente arquivo pdf contendo o código desenvolvido. \n",
        "\n",
        "Observação: a atividade é individual."
      ],
      "metadata": {
        "id": "BeWPx_bqJ9hd"
      }
    },
    {
      "cell_type": "code",
      "execution_count": 2,
      "metadata": {
        "id": "H0k8OHSk3Kyz"
      },
      "outputs": [],
      "source": [
        "import requests\n",
        "from bs4 import BeautifulSoup as bs"
      ]
    },
    {
      "cell_type": "code",
      "source": [
        "url = 'https://daqui.opopular.com.br/busca?q=pol%C3%ADcia'"
      ],
      "metadata": {
        "id": "GshPz1Dz3LdB"
      },
      "execution_count": 3,
      "outputs": []
    },
    {
      "cell_type": "code",
      "source": [
        "r = requests.get(url)"
      ],
      "metadata": {
        "id": "b6WxhSNj3csj"
      },
      "execution_count": 4,
      "outputs": []
    },
    {
      "cell_type": "code",
      "source": [
        "b = bs(r.content, 'html.parser')"
      ],
      "metadata": {
        "id": "PJi-DjX_3gFr"
      },
      "execution_count": 6,
      "outputs": []
    },
    {
      "cell_type": "code",
      "source": [
        "b.find('div', attrs= {'class':'box'})"
      ],
      "metadata": {
        "id": "kZ8VSo-tnFOD"
      },
      "execution_count": null,
      "outputs": []
    },
    {
      "cell_type": "code",
      "source": [
        "type(b)"
      ],
      "metadata": {
        "colab": {
          "base_uri": "https://localhost:8080/"
        },
        "id": "b17mWfVN5S9S",
        "outputId": "c9d9bede-b26f-4c12-e40b-ea3f74a24d9a"
      },
      "execution_count": 8,
      "outputs": [
        {
          "output_type": "execute_result",
          "data": {
            "text/plain": [
              "bs4.BeautifulSoup"
            ]
          },
          "metadata": {},
          "execution_count": 8
        }
      ]
    },
    {
      "cell_type": "markdown",
      "source": [],
      "metadata": {
        "id": "U5b6hPrUhkbs"
      }
    },
    {
      "cell_type": "code",
      "source": [
        "url_base = 'https://daqui.opopular.com.br'\n"
      ],
      "metadata": {
        "id": "ueSNGage7EO5"
      },
      "execution_count": 9,
      "outputs": []
    },
    {
      "cell_type": "code",
      "source": [
        "for noticia in b.find_all('div', attrs={'class':'box'}):\n",
        "    # Obtendo título\n",
        "    titulo = noticia.find('div', attrs={'class':'title'}).text\n",
        "    titulo = titulo.strip()\n",
        "\n",
        "    # Obtendo link\n",
        "    link   = noticia.find('a')\n",
        "    link   = url_base + link['href']\n",
        "\n",
        "    # Obtendo data\n",
        "    data   = noticia.find('time')['datetime']\n",
        "\n",
        "    # Obtendo Conteúdo textual da noticia\n",
        "    url_noticia = requests.get(link)\n",
        "    conteudo = bs(url_noticia.content, 'html.parser')\n",
        "    texto = conteudo.find('div', attrs={'class':'texto'}).text\n",
        "    texto = texto.strip()\n",
        "\n",
        "    print(data)\n",
        "    print(titulo)\n",
        "    print(link)\n",
        "    print(texto)\n",
        "    print('='*50)"
      ],
      "metadata": {
        "colab": {
          "base_uri": "https://localhost:8080/"
        },
        "id": "cYNSkvIH5wQK",
        "outputId": "39694579-665e-4b6c-a480-150132d1caa0"
      },
      "execution_count": 10,
      "outputs": [
        {
          "output_type": "stream",
          "name": "stdout",
          "text": [
            "2022-10-25T16:37:57\n",
            "Homem morre após sofrer ataque de abelhas enquanto pescava, em Catalão\n",
            "https://daqui.opopular.com.br/editorias/geral/homem-morre-ap%C3%B3s-sofrer-ataque-de-abelhas-enquanto-pescava-em-catal%C3%A3o-1.2547742\n",
            "Um homem de 58 anos morreu na noite desta segunda-feira (24) enquanto fugia de uma enxame de abelhas em uma fazenda na região do Distrito de Santo Antônio do Rio Verde, em Catalão, a 262 km de Goiânia. Segundo a Polícia Militar, ele estava acompanhado de um amigo, que sobreviveu ao ataque. Donizete Bezerra da Silva era funcionário da fazenda e estava pescando em uma represa dentro da propriedade após o horário do trabalho. O tenente Joaquim Júnior, do 8º Batalhão da PM, conta que a vítima pulou na água para tentar fugir das picadas das abelhas, mas se afogou e morreu no local. Ele e o amigo teriam amarrado uma canoa em uma das árvores e não perceberam que nela havia uma caixa de abelhas. “As suspeitas são de que se tratavam de abelhas africanas, pois elas atacam em enxames”, afirmou Joaquim. A Polícia Científica foi acionada e deve realizar uma perícia no local. O Instituto Médico Legal (IML) realizou a retirada do corpo do Donizete. O nome do amigo dele não foi divulgado e, por isso, a reportagem não pôde localizá-lo.\n",
            "==================================================\n",
            "2022-10-24T21:38:44\n",
            "Goiás x Corinthians: CBF marca partida para sábado (29) com duas torcidas\n",
            "https://daqui.opopular.com.br/editorias/esporte/goi%C3%A1s-x-corinthians-cbf-marca-partida-para-s%C3%A1bado-29-com-duas-torcidas-1.2547163\n",
            "Após o alívio da vitória sobre o Cuiabá, o Goiás poderia iniciar a semana mais tranquilo, mas o clima de indefinição sobre a data da partida entre Goiás e Corinthians, que deveria ter sido remarcada pela Confederação Brasileira de Futebol, tem atrapalhado o planejamento do clube para uma semana que pode ter o time esmeraldino até três vezes em campo.A agenda atual traz dois compromissos marcados para o Goiás. A partida contra o América-MG, na quarta-feira (26), às 21h45, no Estádio Hailé Pinheiro, além da estreia esmeraldina na Copa Verde contra o Real Noroeste-ES, no próximo sábado (29), no mesmo local.A definição de uma nova data para a partida contra o Corinthians e o local do jogo, adiado no dia 15 de outubro por decisão do Superior Tribunal de Justiça Desportiva, é o que deixa o clube esmeraldino em compasso de espera até o momento.Na última sexta-feira (21), o presidente do STJD, Otávio Noronha, oficiou a Confederação Brasileira de Futebol para reagendamento, em caráter de urgência, no prazo de até 48 horas. No despacho, Noronha pontuou que acatou a sugestão da Procuradoria para que, em caso de necessidade, a partida entre Goiás e Corinthians pudesse ser remarcada até mesmo para outra praça fora de Goiás. O time esmeraldino segue com a posição de querer jogar no Estádio Hailé Pinheiro com a presença de duas torcidas, como ficou acordado entre clube, Polícia Militar de Goiás e Ministério Público de Goiás após reunião entre todas as partes. Além de enxergar desequilíbrio em caso de remarcação da partida para longe de Goiânia, a diretoria esmeraldina enfatiza que não existe tempo hábil para organizar o jogo fora da capital goiana, caso a data utilizada seja a prevista para o dia 29 de outubro (sábado). O clube precisa iniciar a venda de ingresso com prazo de 72 horas de antecedência do horário da partida.Na próxima quinta-feira (27), a medida inominada que fez com que a partida fosse adiada no dia 15 de outubro será julgada pelo Pleno do STJD, em sessão itinerante realizada em João Pessoa (PB). O Goiás entende que houve perda do objeto do processo.\n",
            "==================================================\n",
            "2022-10-24T14:07:37\n",
            "“Barão do tráfico”: Polícia Civil prende um dos principais traficantes de Goiás\n",
            "https://daqui.opopular.com.br/editorias/geral/bar%C3%A3o-do-tr%C3%A1fico-pol%C3%ADcia-civil-prende-um-dos-principais-traficantes-de-goi%C3%A1s-1.2546981\n",
            "Um homem de 58 anos, considerado pela polícia como o “barão do tráfico” e “atacadista de cocaína” no estado de Goiás, foi preso no último sábado (22), em Goiânia. Carlos Noronha, também conhecido como “Pato Rouco”, foi encontrado no luxuoso sobrado onde vivia, no setor Sul. Segundo as investigações, Noronha tem uma vida pautada no crime, tendo cometido o primeiro ainda em 1992. Conforme informações da Polícia Civil, o homem foi preso pela primeira vez pelo crime de furto a residência, em Brasília. Desde então, o homem entrou no mundo do tráfico e alcançou patamar de traficante internacional, tendo passagens pelas polícias Civil e Federal em Goiás, Minas Gerais, Pernambuco e Distrito Federal. Os crimes vão desde tráfico e associação para o tráfico até organização criminosa, falsidade documental, lavagem de dinheiro e homicídio. Ainda de acordo com a polícia, em setembro deste ano, Noronha foi indiciado em Goiás por liderar uma associação que transportava 280 kg de cloridrato de cocaína, “droga com grande teor de pureza e altíssimo valor agregado”, avaliada em cerca de R$ 14 milhões. O carregamento foi apreendido no município de Vianópolis. Com a prisão de agora, a expectativa é a de que o indiciado permaneça detido ao longo da instrução do processo que apura o crime em Vianópolis. Troca de tiros Em 2001, o criminoso recebia um carregamento de cocaína, em Brasília, vindo da Bolívia quando foi interceptado pela Polícia Federal. Ele chegou a ser atingido no pescoço durante uma troca de tiros, mas foi socorrido e sobreviveu. A lesão causada pela bala afetou sua voz, o que lhe rendeu o apelido de Pato Rouco.\n",
            "==================================================\n",
            "2022-10-24T09:34:51\n",
            "Dona de prostíbulo é presa suspeita de explorar gêmeas adolescentes, em Jaraguá\n",
            "https://daqui.opopular.com.br/editorias/geral/dona-de-prost%C3%ADbulo-%C3%A9-presa-suspeita-de-explorar-g%C3%AAmeas-adolescentes-em-jaragu%C3%A1-1.2546985\n",
            "A dona de um prostíbulo de Jaraguá foi presa, na última sexta-feira (21), suspeita de explorar sexualmente duas irmãs gêmeas menores de idade. A polícia informou que as adolescentes, que têm 17 anos, eram mantidas em cárcere privado e faziam programas diariamente, sendo obrigadas a dar parte do pagamento para a suspeita. A prisão aconteceu após denúncia anônima feita à Polícia Civil. Conforme a instituição, a casa de prostituição fica às margens da BR-153, no setor Vila Colombo, em Jaraguá, e se assemelha a um bar. No entanto, nos fundos do estabelecimento os policiais encontraram vários quartos com garotas, entre elas, as duas adolescentes. À polícia, as vítimas revelaram que estavam há dois meses no local, e que todos os dias faziam programas. Parte do dinheiro ia, obrigatoriamente, para a dona do prostíbulo. Ainda segundo as irmãs, que são gêmeas univitelinas, elas eram proibidas de sair da casa e tinham que fazer toda a limpeza. Caso contrário, eram obrigadas a pagar uma multa de R$ 100 para a suspeita. Se um cliente fosse embora, no caso de recusa de alguma das meninas, a multa também era cobrada. A dona do prostíbulo foi presa em flagrante e autuada pelos crimes de cárcere privado qualificado, casa de prostituição e rufianismo. Ela foi conduzida ao presídio e ficou à disposição do Poder Judiciário.\n",
            "==================================================\n",
            "2022-10-20T20:05:33\n",
            "Disparo contra fiel petista em igreja de Goiânia terá reprodução simulada\n",
            "https://daqui.opopular.com.br/editorias/geral/disparo-contra-fiel-petista-em-igreja-de-goi%C3%A2nia-ter%C3%A1-reprodu%C3%A7%C3%A3o-simulada-1.2545055\n",
            "A Justiça autorizou a prorrogação do prazo para entrega do inquérito que apura os motivos do disparo feito pelo cabo da PM Vitor da Silva Lopes, de 38 anos, na perna de Davi Augusto Souza, de 40, durante uma discussão política dentro do templo da Congregação Cristã do Brasil, no Setor Finsocial, no dia 31 de agosto. É aguardada a realização da reprodução simulada do fato pela Polícia Científica. A Polícia Civil investiga se o disparo dado pelo cabo no fiel tem a ver com desavença política. O cabo da PM confirmou em depoimento que não cumprimentava mais a vítima por a família dela ser de “petistas em confronto com o que a igreja prega”, além do fato de o irmão de Davi estar, na opinião dele, causando transtornos ao pessoal do templo. Em decisão proferida nesta quinta-feira (20), a juíza Suelenita Soares Correia, da 5ª Vara Criminal de Goiânia, deu mais 90 dias para que o 21º Distrito Policial concluísse as investigações. A delegada Amanda Menuci Petelinkar afirmou que todos os depoimentos já foram tomados, mas ainda que ainda faltam as diligências da PTC e a conclusão de um laudo complementar que mostraria a gravidade da lesão sofrida por Davi. “A extensão do prazo é de extrema necessária para dirimir qualquer duvida acerca dos fatos ora investigados por esta delegacia”, afirmou a delegada em sua petição. Uma semana antes do culto no qual houve o disparo, o motorista de aplicativo Daniel Augusto Souza, de 45 anos, frequentador do templo no Finsocial, e irmão de Davi, havia dado entrevista para um site afirmando que os líderes religiosos do local estariam orientando os fiéis a não votarem em candidatos de esquerda nestas eleições, mais especificamente os do Partido dos Trabalhadores (PT), “da bandeira vermelha”. No dia do tiro, Daniel e o líder do templo iriam, inclusive, fazer uma conciliação pública, ambos se perdoando. O cabo da PM alega que agiu em legítima defesa porque durante a briga que antecedeu o disparo tentaram pegar a arma dele. Já Davi diz que não sabe o motivo do tiro, mas que foi uma agressão sem justa causa e que o irmão foi ameaçado por policiais após o ocorrido. Em seus depoimentos na delegacia, tanto Davi como Vitor afirmaram não ter intenção de entrar com representação um contra o outro. Vitor também disse que já foi procurado pela família da vítima para apaziguar a situação, enquanto Daniel contou que procurou Vitor para colocar um ponto final na briga após terem sido ameaçados por outros policiais.\n",
            "==================================================\n",
            "2022-10-18T09:58:00\n",
            "Goiás x Corinthians: jogo será na Serrinha e terá novas medidas de seguranças\n",
            "https://daqui.opopular.com.br/editorias/esporte/goi%C3%A1s-x-corinthians-jogo-ser%C3%A1-na-serrinha-e-ter%C3%A1-novas-medidas-de-seguran%C3%A7as-1.2543082\n",
            "A partida entre Goiás e Corinthians, com data a ser remarcada pela CBF, será em Goiânia, no Estádio Hailé Pinheiro, a Serrinha. A decisão foi tomada após uma reunião, nesta segunda-feira (17), em que ficaram estipuladas medidas de segurança para a realização da partida com a presença das duas torcidas. O jogo foi suspenso no sábado (15), horas antes de sua realização. As medidas são: o isolamento na área externa da Serrinha, da esquina da Avenida 85 com a Edmundo Pinheiro até 30 metros depois da S-5, apenas para torcedores que se direcionam para a entrada do estádio; escolta e identificação de todos os membros de torcidas organizadas do Corinthians que viajarem para Goiás desde a entrada no Estado até o estádio e retorno; venda de apenas um ingresso por CPF mediante prévio cadastro facial, para que exista dupla validação, com o ingresso e o reconhecimento facial; entrega pelo Goiás, 24 horas antes do jogo, de relação com todos os torcedores visitantes cadastrados que compraram bilhete para o jogo. A reunião teve a presença do presidente do Goiás, Paulo Rogério Pinheiro, dois representantes do Ministério Público de Goiás (MP-GO) - subprocuradora-geral de Justiça para Assuntos Institucionais, Laura Maria Ferreira Bueno, e o coordenador do GFUT, Diego Osório da Silva Cordeiro -, três integrantes do Batalhão Especializado de Policiamento em Eventos (BEPE) da Polícia Militar e o presidente da Federação Goiana de Futebol (FGF), André Pitta. Foi discutido um plano de ação de segurança que dê garantias para que a partida entre Goiás e Corinthians seja realizada em Goiânia, no Estádio Hailé Pinheiro, com a presença de torcedores das duas equipes. Se não houvesse condições de segurança para a partida, ela poderia ser marcada para estádio de outra cidade. Nos próximos dias, a CBF deve marcar o jogo e uma data que pode ser usada é o dia 29 de outubro. O alviverde tem partida da Copa Verde marcada para o mesmo dia, mas ela pode ser remanejada ou o Goiás pode argumentar que vai usar outro elenco para jogar a competição regional. RETIRAR AÇÃO Ficou acordado que o MP-GO vai retirar a ação movida na Justiça que resultou em uma liminar para que o jogo fosse realizado com torcida única. Antes disso, houve recomendação do MP-GO, e a CBF acatou, estipulando torcida única. Mas o Corinthians entrou no Superior Tribunal de Justiça Desportiva (STJD) e conseguiu liminar para que a sua torcida estivesse no estádio. Diante da nova liminar, concedida com base na ação do MP-GO, o STJD determinou a suspensão do jogo a poucas horas da partida, no sábado (15). Na reunião desta segunda-feira (17), todas as partes comprometeram a cooperar para que o jogo seja realizado na praça esportiva do time esmeraldino e transcorra sem problemas de segurança tanto para torcedores do time local como dos visitantes. O compromisso foi assinado pelas partes envolvidas e a ação movida pelo MP-GO junto ao Tribunal de Justiça de Goiás será retirada.\n",
            "==================================================\n",
            "2022-10-17T17:19:06\n",
            "Motorista é preso suspeito de dirigir bêbado caminhonete com mulher e sete crianças, em Anápolis\n",
            "https://daqui.opopular.com.br/editorias/geral/motorista-%C3%A9-preso-suspeito-de-dirigir-b%C3%AAbado-caminhonete-com-mulher-e-sete-crian%C3%A7as-em-an%C3%A1polis-1.2542832\n",
            "Um homem foi preso no domingo (16) suspeito de dirigir bêbado enquanto levava uma mulher e sete crianças em uma caminhonete, em Anápolis, a 55 km de Goiânia. De acordo com a Polícia Civil (PC), três meninas são filhas do casal e as outras quatro são sobrinhas, elas têm entre 6 meses e 14 anos. O caso é investigado pelo delegado Manoel Vanderic, da Delegacia de Trânsito da Polícia Civil. A corporação afirmou à TV Anhanguera que a mulher também estava “visivelmente” bêbada e com uma das crianças no colo, enquanto as demais estavam em uma cadeirinha ou no colo uma das outras. A reportagem entrou em contato com a delegacia e com o delegado, que informaram não poder passar informações sobre o caso devido envolver menores de idade. Além disso, como os nomes dos envolvidos não foram divulgados, também não localizamos a defesa deles para novos posicionamentos.\n",
            "==================================================\n",
            "2022-10-17T12:30:18\n",
            "Força-tarefa cumpre 549 mandados de prisão contra foragidos da Justiça em Goiás\n",
            "https://daqui.opopular.com.br/editorias/geral/for%C3%A7a-tarefa-cumpre-549-mandados-de-pris%C3%A3o-contra-foragidos-da-justi%C3%A7a-em-goi%C3%A1s-1.2542830\n",
            "Uma força-tarefa da Segurança Pública de Goiás realiza, nesta segunda-feira (17), uma megaoperação com o objetivo de prender foragidos da Justiça. Ao todo, 549 mandados de prisão devem ser cumpridos até o final do dia. Dentre os principais crimes cometidos estão: homícidios, latrocínios, tráfico de drogas, roubo de cargas e associação ao crime organizado. A megaoperação, nomeada Operação Receptio II, pode ser considerada a maior do Brasil, com o total de 633 foragidos da Justiça reinseridos no sistema carcerário. De acordo com a Polícia Federal (PF), dos 633 foragidos, 549 são presos que estão sendo reencarcerados ou cumprindo mandato de prisão de outros processos que respondem. O delegado da PF e chefe da força tarefa de Segurança Pública do estado de Goiás, Ricardo Duarte, ressalta a importância da Operação. “Na verificação feita com inteligência artificial, observamos que existem reeducandos e foragidos com nome falso que estão colocando em risco a sociedade goiana. O mais importante da operação é que os criminosos serão presos para que não reincidam ao crime novamente”. A operação tem como objetivo integrar as forças de segurança pública federal e estadual e desarticular organizações e associações criminosas especializadas em tráfico de drogas e armas, furto, roubo e receptação de cargas e valores, lavagem e ocultação de bens, direitos e valores. A 1° fase da Operação Receptio II foi deflagrada na segunda-feira passada (10), com o total de 20 mandatos de prisão cumpridos. A 2° fase, iniciada nesta segunda-feira (17), tem o objetivo de cumprir 549 mandatos de prisão até o final do dia. Força-tarefa da Segurança Pública A Força-tarefa da Segurança Pública é um grupo criado com a integração da Polícia Federal (PF), Polícia Rodoviária Federal (PRF), Departamento Penitenciário Nacional (DPN), Polícia Militar (PM), Polícia Civil (PC) e Polícia Penal (PP). O levantamento de dados para deflagrar a operação foi feito com base no Conselho Nacional de Justiça (CNJ), Polícia Federal, Diretoria-Geral de Administração Penitenciária de Goiás (DGAP) e demais sistemas disponíveis. De acordo com o delegado Ricardo Duarte, a força-tarefa já existe em outros estados e agora chega a Goiás. “Onde essa força tarefa chegou os resultados são fantásticos, porque todos os órgãos estão trabalhando no mesmo ambiente, no mesmo escritório, trocando informações, experiências e coordenando ações conjuntas”.\n",
            "==================================================\n",
            "2022-10-11T13:55:37\n",
            "Panela de pressão explode e mata mulher grávida, em Inaciolândia\n",
            "https://daqui.opopular.com.br/editorias/geral/panela-de-press%C3%A3o-explode-e-mata-mulher-gr%C3%A1vida-em-inaciol%C3%A2ndia-1.2539584\n",
            "Uma mulher grávida de cinco meses morreu nesta segunda-feira (10), após uma panela de pressão explodir enquanto ela preparava o jantar, em Inaciolândia, a 294 km de Goiânia. O delegado Ricardo Chueire explica que a morte foi acidental e, por isso, o caso não será investigado pela Polícia Civil (PC). “Como se trata de um acidente doméstico, em que não há terceiros que podem ser responsabilizados, a corporação não vai apurar o caso”, afirmou Ricardo. Ele conta que no momento do acidente, a mulher estava na cozinha preparando o jantar e que ela sofreu queimaduras por todo o corpo. A vítima, que estava grávida de cinco meses, chegou a ser socorrida e levada para o hospital municipal de Inaciolândia. Em seguida, ela foi transferida para o Hospital Estadual Governador Otávio Lage (Hugol), em Goiânia, mas não resistiu aos ferimentos e morreu na unidade. Ricardo ainda revela que o marido da mulher estava na casa no momento do acidente e que ele teve ferimentos leves e queimaduras. Ele também recebeu atendimento médico e não corre risco de vida. Os nomes dos envolvidos não foram divulgados e, por isso, a reportagem não conseguiu atualizar o estado de saúde.\n",
            "==================================================\n",
            "2022-10-11T12:24:09\n",
            "Homem encontrado morto após ser levado por PMs se ajoelhou antes de morrer, diz laudo\n",
            "https://daqui.opopular.com.br/editorias/geral/homem-encontrado-morto-ap%C3%B3s-ser-levado-por-pms-se-ajoelhou-antes-de-morrer-diz-laudo-1.2539586\n",
            "Laudo da Polícia Científica apontou que o servente Henrique Alves Nogueira, de 28 anos, encontrado morto após ser levado por policiais militares em uma viatura, foi agredido e se ajoelhou antes de morrer. Os quatro PMs envolvidos no caso foram indiciados nesta segunda-feira (10), suspeitos do crime. No dia 11 de agosto deste ano, imagens de câmeras de segurança flagraram o momento em que Henrique é abordado pelos militares e colocado dentro de uma viatura no Jardim Europa. As imagens, inclusive, vão de encontro à versão oficial apresentada pelos PMs, que alegaram que Henrique estava na garupa de uma moto no Setor Real Conquista com drogas dentro de uma mochila e que reagiu à abordagem dos policiais, atirando contra os agentes após cair do veículo em fuga. Horas depois da abordagem, seu corpo foi encontrado na rua RC-1, no setor Real Conquista – um local de estrada vicinal e cercado por mato. O laudo da perícia, que apontou que Henrique foi morto com quatro tiros, especifica que “momentos que antecederam a sua morte e naquele cenário, a vítima tombou ou se colocou de joelhos por certo lapso temporal, promovendo a formação de sujidades na face anterior da calça”. O documento identificou ainda que Henrique sofreu “impactação/fricção da hemiface direita”, o que provocou escoriações e hematomas. A Polícia Científica destacou, por fim, que a vítima morreu por “choque hemorrágico em consequência de politraumatismo provocado por meio de ação perfurocortante, projétil de arma de fogo.” Indiciamento O sargento Cleber Leandro Cardoso, de 37 anos, o cabo Guidion Ananias Galdino Bonfim, de 31, e os soldados Kilber Pedro Morais Martins, de 34, e Maik da Silva Moura Sousa, de 29, estão presos desde o dia 16 de agosto. Com a conclusão do inquérito, eles foram indiciados e agora respondem pelos crimes de homicídio doloso qualificado, fraude processual e falsidade ideológica. A reportagem tenta localizar a defesa dos indiciados.\n",
            "==================================================\n"
          ]
        }
      ]
    }
  ]
}